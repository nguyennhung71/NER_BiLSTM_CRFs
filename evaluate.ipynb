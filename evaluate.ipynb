{
  "nbformat": 4,
  "nbformat_minor": 0,
  "metadata": {
    "colab": {
      "name": "evaluate.ipynb",
      "provenance": [],
      "collapsed_sections": []
    },
    "kernelspec": {
      "name": "python3",
      "display_name": "Python 3"
    }
  },
  "cells": [
    {
      "cell_type": "code",
      "metadata": {
        "id": "dS5VadS8uKPV",
        "colab_type": "code",
        "outputId": "4f4f99c9-032e-4573-f182-748bb9b266d1",
        "colab": {
          "base_uri": "https://localhost:8080/",
          "height": 136
        }
      },
      "source": [
        "!apt-get update -qq 2>&1 > /dev/null\n",
        "!apt-get install -y -qq software-properties-common python-software-properties module-init-tools\n",
        "!add-apt-repository -y ppa:alessandro-strada/ppa 2>&1 > /dev/null\n",
        "!apt-get update -qq 2>&1 > /dev/null\n",
        "!apt-get -y install -qq google-drive-ocamlfuse fuse "
      ],
      "execution_count": 0,
      "outputs": [
        {
          "output_type": "stream",
          "text": [
            "E: Package 'python-software-properties' has no installation candidate\n",
            "Selecting previously unselected package google-drive-ocamlfuse.\n",
            "(Reading database ... 144433 files and directories currently installed.)\n",
            "Preparing to unpack .../google-drive-ocamlfuse_0.7.21-0ubuntu1~ubuntu18.04.1_amd64.deb ...\n",
            "Unpacking google-drive-ocamlfuse (0.7.21-0ubuntu1~ubuntu18.04.1) ...\n",
            "Setting up google-drive-ocamlfuse (0.7.21-0ubuntu1~ubuntu18.04.1) ...\n",
            "Processing triggers for man-db (2.8.3-2ubuntu0.1) ...\n"
          ],
          "name": "stdout"
        }
      ]
    },
    {
      "cell_type": "code",
      "metadata": {
        "id": "N7am5o1ruO2q",
        "colab_type": "code",
        "outputId": "9a209a03-3ee7-45b5-f534-b1a831f69240",
        "colab": {
          "base_uri": "https://localhost:8080/",
          "height": 122
        }
      },
      "source": [
        "from google.colab import drive\n",
        "drive.mount('/content/drive')"
      ],
      "execution_count": 0,
      "outputs": [
        {
          "output_type": "stream",
          "text": [
            "Go to this URL in a browser: https://accounts.google.com/o/oauth2/auth?client_id=947318989803-6bn6qk8qdgf4n4g3pfee6491hc0brc4i.apps.googleusercontent.com&redirect_uri=urn%3aietf%3awg%3aoauth%3a2.0%3aoob&response_type=code&scope=email%20https%3a%2f%2fwww.googleapis.com%2fauth%2fdocs.test%20https%3a%2f%2fwww.googleapis.com%2fauth%2fdrive%20https%3a%2f%2fwww.googleapis.com%2fauth%2fdrive.photos.readonly%20https%3a%2f%2fwww.googleapis.com%2fauth%2fpeopleapi.readonly\n",
            "\n",
            "Enter your authorization code:\n",
            "··········\n",
            "Mounted at /content/drive\n"
          ],
          "name": "stdout"
        }
      ]
    },
    {
      "cell_type": "code",
      "metadata": {
        "id": "SAaYeMctuUtz",
        "colab_type": "code",
        "outputId": "d35bff51-b805-4d20-e18b-f9484be75aad",
        "colab": {
          "base_uri": "https://localhost:8080/",
          "height": 34
        }
      },
      "source": [
        "cd /content/drive/My Drive/NLP/"
      ],
      "execution_count": 0,
      "outputs": [
        {
          "output_type": "stream",
          "text": [
            "/content/drive/My Drive/NLP\n"
          ],
          "name": "stdout"
        }
      ]
    },
    {
      "cell_type": "code",
      "metadata": {
        "id": "VVvSyeM5uOt5",
        "colab_type": "code",
        "outputId": "f072af6b-bae2-4225-ad38-bf91fed2a6b1",
        "colab": {
          "base_uri": "https://localhost:8080/",
          "height": 326
        }
      },
      "source": [
        "!pip install pyvi"
      ],
      "execution_count": 0,
      "outputs": [
        {
          "output_type": "stream",
          "text": [
            "Collecting pyvi\n",
            "\u001b[?25l  Downloading https://files.pythonhosted.org/packages/10/e1/0e5bc6b5e3327b9385d6e0f1b0a7c0404f28b74eb6db59a778515b30fd9c/pyvi-0.1-py2.py3-none-any.whl (8.5MB)\n",
            "\u001b[K     |████████████████████████████████| 8.5MB 2.7MB/s \n",
            "\u001b[?25hRequirement already satisfied: scikit-learn in /usr/local/lib/python3.6/dist-packages (from pyvi) (0.22.2.post1)\n",
            "Collecting sklearn-crfsuite\n",
            "  Downloading https://files.pythonhosted.org/packages/25/74/5b7befa513482e6dee1f3dd68171a6c9dfc14c0eaa00f885ffeba54fe9b0/sklearn_crfsuite-0.3.6-py2.py3-none-any.whl\n",
            "Requirement already satisfied: numpy>=1.11.0 in /usr/local/lib/python3.6/dist-packages (from scikit-learn->pyvi) (1.18.4)\n",
            "Requirement already satisfied: joblib>=0.11 in /usr/local/lib/python3.6/dist-packages (from scikit-learn->pyvi) (0.15.0)\n",
            "Requirement already satisfied: scipy>=0.17.0 in /usr/local/lib/python3.6/dist-packages (from scikit-learn->pyvi) (1.4.1)\n",
            "Collecting python-crfsuite>=0.8.3\n",
            "\u001b[?25l  Downloading https://files.pythonhosted.org/packages/95/99/869dde6dbf3e0d07a013c8eebfb0a3d30776334e0097f8432b631a9a3a19/python_crfsuite-0.9.7-cp36-cp36m-manylinux1_x86_64.whl (743kB)\n",
            "\u001b[K     |████████████████████████████████| 747kB 47.5MB/s \n",
            "\u001b[?25hRequirement already satisfied: tabulate in /usr/local/lib/python3.6/dist-packages (from sklearn-crfsuite->pyvi) (0.8.7)\n",
            "Requirement already satisfied: six in /usr/local/lib/python3.6/dist-packages (from sklearn-crfsuite->pyvi) (1.12.0)\n",
            "Requirement already satisfied: tqdm>=2.0 in /usr/local/lib/python3.6/dist-packages (from sklearn-crfsuite->pyvi) (4.41.1)\n",
            "Installing collected packages: python-crfsuite, sklearn-crfsuite, pyvi\n",
            "Successfully installed python-crfsuite-0.9.7 pyvi-0.1 sklearn-crfsuite-0.3.6\n"
          ],
          "name": "stdout"
        }
      ]
    },
    {
      "cell_type": "code",
      "metadata": {
        "id": "UfT2Ep6huOmS",
        "colab_type": "code",
        "colab": {}
      },
      "source": [
        "from NER3.data_utils import prepare_data\n",
        "from NER3.ner_model import NERModel\n",
        "from NER3.config import Config\n",
        "from pyvi import ViTokenizer\n",
        "\n",
        "def align_data(data):\n",
        "    \"\"\"Given dict with lists, creates aligned strings\n",
        "\n",
        "    Adapted from Assignment 3 of CS224N\n",
        "\n",
        "    Args:\n",
        "        data: (dict) data[\"x\"] = [\"I\", \"love\", \"you\"]\n",
        "              (dict) data[\"y\"] = [\"O\", \"O\", \"O\"]\n",
        "\n",
        "    Returns:\n",
        "        data_aligned: (dict) data_align[\"x\"] = \"I love you\"\n",
        "                           data_align[\"y\"] = \"O O    O  \"\n",
        "\n",
        "    \"\"\"\n",
        "    spacings = [max([len(seq[i]) for seq in data.values()])\n",
        "                for i in range(len(data[list(data.keys())[0]]))]\n",
        "    data_aligned = dict()\n",
        "\n",
        "    # for each entry, create aligned string\n",
        "    for key, seq in data.items():\n",
        "        str_aligned = \"\"\n",
        "        for token, spacing in zip(seq, spacings):\n",
        "            str_aligned += token + \" \" * (spacing - len(token) + 1)\n",
        "\n",
        "        data_aligned[key] = str_aligned\n",
        "\n",
        "    return data_aligned\n",
        "\n",
        "\n",
        "\n",
        "def interactive_shell(model):\n",
        "    \"\"\"Creates interactive shell to play with model\n",
        "\n",
        "    Args:\n",
        "        model: instance of NERModel\n",
        "\n",
        "    \"\"\"\n",
        "    model.logger.info(\"\"\"\n",
        "This is an interactive mode.\n",
        "To exit, enter 'exit'.\n",
        "You can enter a sentence like\n",
        "input> I love Paris\"\"\")\n",
        "\n",
        "    while True:\n",
        "        try:\n",
        "            # for python 2\n",
        "            sentence = input(\"input> \")\n",
        "        except NameError:\n",
        "            # for python 3\n",
        "            sentence = input(\"input> \")\n",
        "        words_raw = ViTokenizer.tokenize(sentence)\n",
        "        words_raw = words_raw.strip().split(\" \")\n",
        "\n",
        "        if words_raw == [\"exit\"]:\n",
        "            break\n",
        "        print('Tokenize: ',words_raw)\n",
        "        preds = model.predict(words_raw)\n",
        "        print(preds)\n",
        "        # to_print = align_data({\"input\": words_raw, \"output\": preds})\n",
        "\n",
        "        # for key, seq in to_print.items():\n",
        "        #     model.logger.info(seq)\n",
        "\n",
        "\n",
        "\n",
        "    # create instance of config\n",
        "config = Config(pathfile='not_saved_sate_3/', name='savemodel_no_state')\n",
        "\n",
        "# build model\n",
        "model = NERModel(config)\n",
        "model.build()\n",
        "model.restore_session(config.pathfile_model)\n",
        "\n",
        "    \n",
        "\n"
      ],
      "execution_count": 0,
      "outputs": []
    },
    {
      "cell_type": "code",
      "metadata": {
        "id": "DwPFrpug0cZ0",
        "colab_type": "code",
        "outputId": "1d1ca86f-54d6-4f53-efae-577f35d2fbde",
        "colab": {
          "base_uri": "https://localhost:8080/",
          "height": 141
        }
      },
      "source": [
        "# create dataset\n",
        "test_sents, test_labels, length_sentences_dev = prepare_data(config.filename_test,config.vocab_words,config.vocab_chars, config.use_chars, colum=[0, 3])\n",
        "\n",
        "# evaluate and interact\n",
        "model.evaluate(test_sents, test_labels)\n",
        "# interactive_shell(model)"
      ],
      "execution_count": 0,
      "outputs": [
        {
          "output_type": "stream",
          "text": [
            "{'i': 0, 'ậ': 1, 'ề': 2, 'U': 3, 'Ấ': 4, 'C': 5, 'ư': 6, 'ơ': 7, 'ặ': 8, 'y': 9, 'J': 10, 'ỳ': 11, 'v': 12, 'ð': 13, 'Ó': 14, ')': 15, 'M': 16, 'ể': 17, '~': 18, 'W': 19, 'Y': 20, 'ỵ': 21, 'ồ': 22, '“': 23, 'ầ': 24, ',': 25, 'á': 26, '8': 27, 'X': 28, 'Ừ': 29, 'â': 30, 'ợ': 31, 'Ặ': 32, 'L': 33, 'ù': 34, 'Á': 35, '&': 36, 'ỗ': 37, 'z': 38, 'ổ': 39, 'm': 40, '0': 41, '>': 42, 'T': 43, 'ố': 44, 'ằ': 45, 'í': 46, 'ò': 47, '?': 48, 'Ð': 49, 'Ệ': 50, 'ă': 51, 'ứ': 52, 'n': 53, '”': 54, 'Ũ': 55, '…': 56, 'Z': 57, '-': 58, 'w': 59, '‘': 60, 'ủ': 61, '%': 62, 'Ù': 63, 'ì': 64, 'đ': 65, 'I': 66, 'Ứ': 67, 'è': 68, 'ọ': 69, 'A': 70, '³': 71, 'Ổ': 72, 'ê': 73, 'F': 74, 'k': 75, 'Ễ': 76, 'ẹ': 77, 'Ỗ': 78, 'p': 79, 'õ': 80, 'Ạ': 81, 'c': 82, 'ô': 83, 'ỡ': 84, 'Ố': 85, 'H': 86, '*': 87, 'h': 88, 'ữ': 89, '\"': 90, 'Ầ': 91, 'ó': 92, 'P': 93, 'u': 94, 'x': 95, 'q': 96, '3': 97, \"'\": 98, 'Ự': 99, '+': 100, 'ã': 101, 'ẵ': 102, 'Ư': 103, '.': 104, 'ú': 105, '6': 106, '!': 107, 's': 108, 'r': 109, 'ĩ': 110, 'ẽ': 111, 'Ữ': 112, ';': 113, 'a': 114, 'ệ': 115, 'ụ': 116, '/': 117, '–': 118, 'Ả': 119, 'o': 120, 'ạ': 121, 'R': 122, ']': 123, 'Ờ': 124, 'Ú': 125, 'À': 126, 'Ý': 127, 'ỷ': 128, 'Ồ': 129, 'Ở': 130, '[': 131, 'V': 132, '²': 133, 'Õ': 134, 'ỹ': 135, 'Ề': 136, 't': 137, 'f': 138, '4': 139, 'ử': 140, 'ũ': 141, ':': 142, 'ị': 143, 'K': 144, 'é': 145, 'N': 146, 'b': 147, 'Q': 148, '1': 149, 'E': 150, 'ờ': 151, 'Ẩ': 152, 'g': 153, 'ắ': 154, 'à': 155, '(': 156, '7': 157, 'Ủ': 158, 'ả': 159, 'd': 160, 'ẫ': 161, 'ỏ': 162, 'ự': 163, 'ẳ': 164, 'S': 165, 'l': 166, '°': 167, '’': 168, 'Ậ': 169, 'Â': 170, 'ẻ': 171, '9': 172, 'D': 173, 'ỉ': 174, 'Ỳ': 175, 'G': 176, 'Ơ': 177, 'Đ': 178, 'ớ': 179, 'e': 180, 'ý': 181, 'Ô': 182, 'Ê': 183, '2': 184, 'j': 185, 'ừ': 186, 'ế': 187, '5': 188, 'Í': 189, 'ẩ': 190, '¼': 191, 'ấ': 192, 'B': 193, 'ộ': 194, 'ở': 195, 'ễ': 196, 'O': 197, 'Ă': 198, '_': 199, 'unk': 200}\n"
          ],
          "name": "stdout"
        },
        {
          "output_type": "stream",
          "text": [
            "Testing model over test set\n"
          ],
          "name": "stderr"
        },
        {
          "output_type": "stream",
          "text": [
            "len_sentence:  [([5, 88, 143], 352), ([16, 0, 53, 88], 273), ([83, 40], 861), ([65, 52, 114], 586), ([82, 120, 53, 199, 153, 26, 0], 918), ([40, 179, 0], 92), ([88, 7, 53], 129), ([88, 114, 0], 35), ([137, 88, 26, 53, 153], 492), ([109, 6, 84, 0], 4535), ([137, 94, 39, 0], 516), ([53, 192, 82], 7054), ([166, 73, 53], 32), ([137, 186, 53, 153], 358), ([137, 0, 187, 53, 153], 67), ([137, 88, 159, 40, 199, 137, 88, 0, 187, 137], 4993), ([75, 88, 0], 56), ([75, 17], 491), ([166, 121, 0], 8), ([82, 88, 120], 17), ([82, 88, 105, 53, 153, 199, 137, 83, 0], 336), ([53, 153, 88, 180], 82), ([12, 2], 50), ([82, 26, 0], 58), ([82, 88, 187, 137], 169), ([82, 61, 114], 5), ([82, 88, 22, 53, 153], 746), ([104], 0)]\n",
            "label_sentence:  [0, 2, 0, 0, 0, 0, 0, 0, 0, 0, 0, 0, 0, 0, 0, 0, 0, 0, 0, 0, 0, 0, 0, 0, 0, 0, 0, 0]\n",
            "total:  2388\n"
          ],
          "name": "stdout"
        },
        {
          "output_type": "stream",
          "text": [
            "acc 88.39 - precision 87.47 - recall 86.14 - f1 86.80\n"
          ],
          "name": "stderr"
        }
      ]
    }
  ]
}